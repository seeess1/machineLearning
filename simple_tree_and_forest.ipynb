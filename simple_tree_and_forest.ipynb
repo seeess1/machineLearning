{
 "cells": [
  {
   "cell_type": "markdown",
   "metadata": {},
   "source": [
    "# Overview\n",
    "\n",
    "In this exercise I started with manually programming a decision tree designed to navigate a simple data set of vehicle miles per gallon, number of cylinders, horsepower, and weight. The goal was to properly classify the MPG ratings of the vehicles in the data based on the categories cylinders, HP, and weight class.\n",
    "\n",
    "Toward the end of the exercise, I train a random forest classifier on the same data and assess the accuracy of the model given various tuning parameters."
   ]
  },
  {
   "cell_type": "markdown",
   "metadata": {},
   "source": [
    "### Manual decision tree"
   ]
  },
  {
   "cell_type": "code",
   "execution_count": 1,
   "metadata": {},
   "outputs": [],
   "source": [
    "# Setup\n",
    "import pandas as pd\n",
    "import numpy as np"
   ]
  },
  {
   "cell_type": "code",
   "execution_count": 2,
   "metadata": {},
   "outputs": [
    {
     "data": {
      "text/html": [
       "<div>\n",
       "<style scoped>\n",
       "    .dataframe tbody tr th:only-of-type {\n",
       "        vertical-align: middle;\n",
       "    }\n",
       "\n",
       "    .dataframe tbody tr th {\n",
       "        vertical-align: top;\n",
       "    }\n",
       "\n",
       "    .dataframe thead th {\n",
       "        text-align: right;\n",
       "    }\n",
       "</style>\n",
       "<table border=\"1\" class=\"dataframe\">\n",
       "  <thead>\n",
       "    <tr style=\"text-align: right;\">\n",
       "      <th></th>\n",
       "      <th>MPG</th>\n",
       "      <th>cylinders</th>\n",
       "      <th>HP</th>\n",
       "      <th>weight</th>\n",
       "    </tr>\n",
       "  </thead>\n",
       "  <tbody>\n",
       "    <tr>\n",
       "      <th>0</th>\n",
       "      <td>good</td>\n",
       "      <td>4</td>\n",
       "      <td>75</td>\n",
       "      <td>light</td>\n",
       "    </tr>\n",
       "    <tr>\n",
       "      <th>1</th>\n",
       "      <td>bad</td>\n",
       "      <td>6</td>\n",
       "      <td>90</td>\n",
       "      <td>medium</td>\n",
       "    </tr>\n",
       "    <tr>\n",
       "      <th>2</th>\n",
       "      <td>bad</td>\n",
       "      <td>4</td>\n",
       "      <td>110</td>\n",
       "      <td>medium</td>\n",
       "    </tr>\n",
       "    <tr>\n",
       "      <th>3</th>\n",
       "      <td>bad</td>\n",
       "      <td>8</td>\n",
       "      <td>175</td>\n",
       "      <td>weighty</td>\n",
       "    </tr>\n",
       "    <tr>\n",
       "      <th>4</th>\n",
       "      <td>bad</td>\n",
       "      <td>6</td>\n",
       "      <td>95</td>\n",
       "      <td>medium</td>\n",
       "    </tr>\n",
       "    <tr>\n",
       "      <th>5</th>\n",
       "      <td>bad</td>\n",
       "      <td>4</td>\n",
       "      <td>94</td>\n",
       "      <td>light</td>\n",
       "    </tr>\n",
       "    <tr>\n",
       "      <th>6</th>\n",
       "      <td>bad</td>\n",
       "      <td>4</td>\n",
       "      <td>95</td>\n",
       "      <td>light</td>\n",
       "    </tr>\n",
       "    <tr>\n",
       "      <th>7</th>\n",
       "      <td>bad</td>\n",
       "      <td>8</td>\n",
       "      <td>139</td>\n",
       "      <td>weighty</td>\n",
       "    </tr>\n",
       "    <tr>\n",
       "      <th>8</th>\n",
       "      <td>bad</td>\n",
       "      <td>8</td>\n",
       "      <td>190</td>\n",
       "      <td>weighty</td>\n",
       "    </tr>\n",
       "    <tr>\n",
       "      <th>9</th>\n",
       "      <td>bad</td>\n",
       "      <td>8</td>\n",
       "      <td>145</td>\n",
       "      <td>weighty</td>\n",
       "    </tr>\n",
       "    <tr>\n",
       "      <th>10</th>\n",
       "      <td>bad</td>\n",
       "      <td>6</td>\n",
       "      <td>100</td>\n",
       "      <td>medium</td>\n",
       "    </tr>\n",
       "    <tr>\n",
       "      <th>11</th>\n",
       "      <td>good</td>\n",
       "      <td>4</td>\n",
       "      <td>92</td>\n",
       "      <td>medium</td>\n",
       "    </tr>\n",
       "    <tr>\n",
       "      <th>12</th>\n",
       "      <td>bad</td>\n",
       "      <td>6</td>\n",
       "      <td>100</td>\n",
       "      <td>weighty</td>\n",
       "    </tr>\n",
       "    <tr>\n",
       "      <th>13</th>\n",
       "      <td>bad</td>\n",
       "      <td>8</td>\n",
       "      <td>170</td>\n",
       "      <td>weighty</td>\n",
       "    </tr>\n",
       "    <tr>\n",
       "      <th>14</th>\n",
       "      <td>good</td>\n",
       "      <td>4</td>\n",
       "      <td>89</td>\n",
       "      <td>medium</td>\n",
       "    </tr>\n",
       "    <tr>\n",
       "      <th>15</th>\n",
       "      <td>good</td>\n",
       "      <td>4</td>\n",
       "      <td>65</td>\n",
       "      <td>light</td>\n",
       "    </tr>\n",
       "    <tr>\n",
       "      <th>16</th>\n",
       "      <td>bad</td>\n",
       "      <td>6</td>\n",
       "      <td>85</td>\n",
       "      <td>medium</td>\n",
       "    </tr>\n",
       "    <tr>\n",
       "      <th>17</th>\n",
       "      <td>good</td>\n",
       "      <td>4</td>\n",
       "      <td>81</td>\n",
       "      <td>light</td>\n",
       "    </tr>\n",
       "    <tr>\n",
       "      <th>18</th>\n",
       "      <td>bad</td>\n",
       "      <td>6</td>\n",
       "      <td>95</td>\n",
       "      <td>medium</td>\n",
       "    </tr>\n",
       "    <tr>\n",
       "      <th>19</th>\n",
       "      <td>bad</td>\n",
       "      <td>4</td>\n",
       "      <td>93</td>\n",
       "      <td>light</td>\n",
       "    </tr>\n",
       "  </tbody>\n",
       "</table>\n",
       "</div>"
      ],
      "text/plain": [
       "     MPG  cylinders   HP   weight\n",
       "0   good          4   75    light\n",
       "1    bad          6   90   medium\n",
       "2    bad          4  110   medium\n",
       "3    bad          8  175  weighty\n",
       "4    bad          6   95   medium\n",
       "5    bad          4   94    light\n",
       "6    bad          4   95    light\n",
       "7    bad          8  139  weighty\n",
       "8    bad          8  190  weighty\n",
       "9    bad          8  145  weighty\n",
       "10   bad          6  100   medium\n",
       "11  good          4   92   medium\n",
       "12   bad          6  100  weighty\n",
       "13   bad          8  170  weighty\n",
       "14  good          4   89   medium\n",
       "15  good          4   65    light\n",
       "16   bad          6   85   medium\n",
       "17  good          4   81    light\n",
       "18   bad          6   95   medium\n",
       "19   bad          4   93    light"
      ]
     },
     "execution_count": 2,
     "metadata": {},
     "output_type": "execute_result"
    }
   ],
   "source": [
    "# Sample data\n",
    "from StringIO import StringIO\n",
    "thefile = StringIO('MPG,cylinders,HP,weight\\ngood,4,75,light\\nbad,6,90,medium\\nbad,4,110,medium\\nbad,8,175,weighty\\nbad,6,95,medium\\nbad,4,94,light\\nbad,4,95,light\\nbad,8,139,weighty\\nbad,8,190,weighty\\nbad,8,145,weighty\\nbad,6,100,medium\\ngood,4,92,medium\\nbad,6,100,weighty\\nbad,8,170,weighty\\ngood,4,89,medium\\ngood,4,65,light\\nbad,6,85,medium\\ngood,4,81,light\\nbad,6,95,medium\\nbad,4,93,light')\n",
    "df = pd.read_csv(thefile)\n",
    "df"
   ]
  },
  {
   "cell_type": "markdown",
   "metadata": {},
   "source": [
    "### Most common MPG"
   ]
  },
  {
   "cell_type": "code",
   "execution_count": 3,
   "metadata": {},
   "outputs": [
    {
     "name": "stdout",
     "output_type": "stream",
     "text": [
      "The most common MPG value is 'bad'\n"
     ]
    }
   ],
   "source": [
    "# most common MPG\n",
    "good = 0\n",
    "bad = 0\n",
    "for row in df.iterrows():\n",
    "    if row[1]['MPG'] == 'good':\n",
    "        good += 1\n",
    "    else:\n",
    "        bad += 1\n",
    "\n",
    "if good > bad:\n",
    "    print(\"The most common MPG value is good\")\n",
    "else:\n",
    "    print(\"The most common MPG value is 'bad'\")"
   ]
  },
  {
   "cell_type": "markdown",
   "metadata": {},
   "source": [
    "### Functions to determine possible splits"
   ]
  },
  {
   "cell_type": "code",
   "execution_count": 4,
   "metadata": {},
   "outputs": [],
   "source": [
    "# Information gain function used to decide which variable/value to use at each node of the decision tree\n",
    "def InformationGain(goodY,badY,goodN,badN):\n",
    "    def F(X,Y):\n",
    "        val1 = X*np.log2(1.*(X+Y)/X) if X>0 else 0\n",
    "        val2 = Y*np.log2(1.*(X+Y)/Y) if Y>0 else 0\n",
    "        return val1+val2\n",
    "    return (F(goodY+goodN,badY+badN)-F(goodY,badY)-F(goodN,badN)) / (goodY+goodN+badY+badN)"
   ]
  },
  {
   "cell_type": "code",
   "execution_count": 5,
   "metadata": {},
   "outputs": [],
   "source": [
    "# Cylinder splits\n",
    "def cylcheck(df):\n",
    "    cyls = list(df.cylinders.unique())\n",
    "    d = {}\n",
    "    for cyl in cyls:\n",
    "        goodY = 0\n",
    "        badY = 0\n",
    "        goodN = 0\n",
    "        badN = 0\n",
    "        for row in df.iterrows():\n",
    "            if row[1]['cylinders'] == cyl:\n",
    "                if row[1]['MPG'] == 'good':\n",
    "                    goodY += 1\n",
    "                else:\n",
    "                    badY += 1                \n",
    "            else:\n",
    "                if row[1]['MPG'] == 'good':\n",
    "                    goodN += 1\n",
    "                else:\n",
    "                    badN += 1\n",
    "        lst = [goodY, badY, goodN, badN]\n",
    "        info_gain = InformationGain(goodY, badY, goodN, badN)\n",
    "        d[cyl] = tuple([lst,info_gain])\n",
    "    return d"
   ]
  },
  {
   "cell_type": "code",
   "execution_count": 6,
   "metadata": {},
   "outputs": [],
   "source": [
    "# Weight splits\n",
    "def weight_check(df):\n",
    "    weights = list(df.weight.unique())\n",
    "    d = {}\n",
    "    for weight in weights:\n",
    "        goodY = 0\n",
    "        badY = 0\n",
    "        goodN = 0\n",
    "        badN = 0\n",
    "        for row in df.iterrows():\n",
    "            if row[1]['weight'] == weight:\n",
    "                if row[1]['MPG'] == 'good':\n",
    "                    goodY += 1\n",
    "                else:\n",
    "                    badY += 1                \n",
    "            else:\n",
    "                if row[1]['MPG'] == 'good':\n",
    "                    goodN += 1\n",
    "                else:\n",
    "                    badN += 1\n",
    "        lst = [goodY, badY, goodN, badN]\n",
    "        info_gain = InformationGain(goodY, badY, goodN, badN)\n",
    "        d[weight] = tuple([lst,info_gain])\n",
    "    return d"
   ]
  },
  {
   "cell_type": "code",
   "execution_count": 7,
   "metadata": {},
   "outputs": [],
   "source": [
    "# Horsepower splits\n",
    "def hpsplits(df):\n",
    "    df = df.sort_values(by='HP')\n",
    "    df['previous_MPG'] = df['MPG'].shift(1)\n",
    "    df['previous_HP'] = df['HP'].shift(1)\n",
    "    \n",
    "    dfsplits = []\n",
    "    for index, row in df.iloc[1:].iterrows():\n",
    "        if row['MPG'] != row['previous_MPG']:\n",
    "            split = (row['HP'] + row['previous_HP'])/2\n",
    "            dfsplits.append(split)\n",
    "    \n",
    "    d = {}\n",
    "    for split in dfsplits:\n",
    "        goodY = 0\n",
    "        badY = 0\n",
    "        goodN = 0\n",
    "        badN = 0\n",
    "        for row in df.iterrows():\n",
    "            if row[1]['HP'] > split:\n",
    "                if row[1]['MPG'] == 'good':\n",
    "                    goodY += 1\n",
    "                else:\n",
    "                    badY += 1                \n",
    "            else:\n",
    "                if row[1]['MPG'] == 'good':\n",
    "                    goodN += 1\n",
    "                else:\n",
    "                    badN += 1\n",
    "        lst = [goodY, badY, goodN, badN]\n",
    "        info_gain = InformationGain(goodY, badY, goodN, badN)\n",
    "        d[split] = tuple([lst,info_gain])\n",
    "    return d"
   ]
  },
  {
   "cell_type": "code",
   "execution_count": 8,
   "metadata": {},
   "outputs": [
    {
     "name": "stdout",
     "output_type": "stream",
     "text": [
      "Format: {Number of cylinders: ([Good and bad in first node and in second node], info gain)}\n"
     ]
    },
    {
     "data": {
      "text/plain": [
       "{4: ([5, 4, 0, 11], 0.36529389753193281),\n",
       " 6: ([0, 6, 5, 9], 0.15307795338969116),\n",
       " 8: ([0, 5, 5, 10], 0.12255624891826571)}"
      ]
     },
     "execution_count": 8,
     "metadata": {},
     "output_type": "execute_result"
    }
   ],
   "source": [
    "cylcheck_split = cylcheck(df)\n",
    "print(\"Format: {Number of cylinders: ([Good and bad in first node and in second node], info gain)}\")\n",
    "cylcheck_split"
   ]
  },
  {
   "cell_type": "code",
   "execution_count": 9,
   "metadata": {},
   "outputs": [
    {
     "name": "stdout",
     "output_type": "stream",
     "text": [
      "Format: {Weight class: ([Good and bad in first node and in second node], info gain)}\n"
     ]
    },
    {
     "data": {
      "text/plain": [
       "{'light': ([3, 3, 2, 12], 0.097107179451503628),\n",
       " 'medium': ([2, 6, 3, 9], 8.8817841970012528e-17),\n",
       " 'weighty': ([0, 6, 5, 9], 0.15307795338969116)}"
      ]
     },
     "execution_count": 9,
     "metadata": {},
     "output_type": "execute_result"
    }
   ],
   "source": [
    "weight_split = weight_check(df)\n",
    "print(\"Format: {Weight class: ([Good and bad in first node and in second node], info gain)}\")\n",
    "weight_split"
   ]
  },
  {
   "cell_type": "code",
   "execution_count": 10,
   "metadata": {},
   "outputs": [
    {
     "name": "stdout",
     "output_type": "stream",
     "text": [
      "Format: {HP: ([Good and bad in first node and in second node], info gain)}\n"
     ]
    },
    {
     "data": {
      "text/plain": [
       "{83.0: ([2, 15, 3, 0], 0.36710265610273324),\n",
       " 87.0: ([2, 14, 3, 1], 0.21417094500762929),\n",
       " 89.5: ([1, 14, 4, 1], 0.36577659947122626),\n",
       " 91.0: ([1, 13, 4, 2], 0.27592674559417307),\n",
       " 92.5: ([0, 13, 5, 2], 0.50918592546081209)}"
      ]
     },
     "execution_count": 10,
     "metadata": {},
     "output_type": "execute_result"
    }
   ],
   "source": [
    "hp = hpsplits(df)\n",
    "print(\"Format: {HP: ([Good and bad in first node and in second node], info gain)}\")\n",
    "hp"
   ]
  },
  {
   "cell_type": "markdown",
   "metadata": {},
   "source": [
    "### Splitting the data\n",
    "\n",
    "The optimal binary split comes from partitioning the data based on whether or not the HP is greater than 92.5. At this split, we have the greatest information gain (.51). Still, some further partitioning is required since some cars with less than or equal to 92.5 HP have good gas mileage and some have bad gas mileage and their other characteristics, such as weight and the number of cylinders, are not identical."
   ]
  },
  {
   "cell_type": "code",
   "execution_count": 11,
   "metadata": {},
   "outputs": [],
   "source": [
    "# First split on HP > 92.5 since info gain is greatest at that split\n",
    "def first_split(df):\n",
    "    mask = df['HP'] > 92.5\n",
    "    df_yes = df[mask]\n",
    "    df_no = df[~mask]\n",
    "    return df_yes, df_no"
   ]
  },
  {
   "cell_type": "code",
   "execution_count": 12,
   "metadata": {},
   "outputs": [],
   "source": [
    "# Get two dataframes, one that meets the condition for the first split and one that doesn't.\n",
    "fs_df_yes = first_split(df)[0]\n",
    "fs_df_no = first_split(df)[1]"
   ]
  },
  {
   "cell_type": "code",
   "execution_count": 13,
   "metadata": {},
   "outputs": [
    {
     "data": {
      "text/html": [
       "<div>\n",
       "<style scoped>\n",
       "    .dataframe tbody tr th:only-of-type {\n",
       "        vertical-align: middle;\n",
       "    }\n",
       "\n",
       "    .dataframe tbody tr th {\n",
       "        vertical-align: top;\n",
       "    }\n",
       "\n",
       "    .dataframe thead th {\n",
       "        text-align: right;\n",
       "    }\n",
       "</style>\n",
       "<table border=\"1\" class=\"dataframe\">\n",
       "  <thead>\n",
       "    <tr style=\"text-align: right;\">\n",
       "      <th></th>\n",
       "      <th>MPG</th>\n",
       "      <th>cylinders</th>\n",
       "      <th>HP</th>\n",
       "      <th>weight</th>\n",
       "    </tr>\n",
       "  </thead>\n",
       "  <tbody>\n",
       "    <tr>\n",
       "      <th>2</th>\n",
       "      <td>bad</td>\n",
       "      <td>4</td>\n",
       "      <td>110</td>\n",
       "      <td>medium</td>\n",
       "    </tr>\n",
       "    <tr>\n",
       "      <th>3</th>\n",
       "      <td>bad</td>\n",
       "      <td>8</td>\n",
       "      <td>175</td>\n",
       "      <td>weighty</td>\n",
       "    </tr>\n",
       "    <tr>\n",
       "      <th>4</th>\n",
       "      <td>bad</td>\n",
       "      <td>6</td>\n",
       "      <td>95</td>\n",
       "      <td>medium</td>\n",
       "    </tr>\n",
       "    <tr>\n",
       "      <th>5</th>\n",
       "      <td>bad</td>\n",
       "      <td>4</td>\n",
       "      <td>94</td>\n",
       "      <td>light</td>\n",
       "    </tr>\n",
       "    <tr>\n",
       "      <th>6</th>\n",
       "      <td>bad</td>\n",
       "      <td>4</td>\n",
       "      <td>95</td>\n",
       "      <td>light</td>\n",
       "    </tr>\n",
       "    <tr>\n",
       "      <th>7</th>\n",
       "      <td>bad</td>\n",
       "      <td>8</td>\n",
       "      <td>139</td>\n",
       "      <td>weighty</td>\n",
       "    </tr>\n",
       "    <tr>\n",
       "      <th>8</th>\n",
       "      <td>bad</td>\n",
       "      <td>8</td>\n",
       "      <td>190</td>\n",
       "      <td>weighty</td>\n",
       "    </tr>\n",
       "    <tr>\n",
       "      <th>9</th>\n",
       "      <td>bad</td>\n",
       "      <td>8</td>\n",
       "      <td>145</td>\n",
       "      <td>weighty</td>\n",
       "    </tr>\n",
       "    <tr>\n",
       "      <th>10</th>\n",
       "      <td>bad</td>\n",
       "      <td>6</td>\n",
       "      <td>100</td>\n",
       "      <td>medium</td>\n",
       "    </tr>\n",
       "    <tr>\n",
       "      <th>12</th>\n",
       "      <td>bad</td>\n",
       "      <td>6</td>\n",
       "      <td>100</td>\n",
       "      <td>weighty</td>\n",
       "    </tr>\n",
       "    <tr>\n",
       "      <th>13</th>\n",
       "      <td>bad</td>\n",
       "      <td>8</td>\n",
       "      <td>170</td>\n",
       "      <td>weighty</td>\n",
       "    </tr>\n",
       "    <tr>\n",
       "      <th>18</th>\n",
       "      <td>bad</td>\n",
       "      <td>6</td>\n",
       "      <td>95</td>\n",
       "      <td>medium</td>\n",
       "    </tr>\n",
       "    <tr>\n",
       "      <th>19</th>\n",
       "      <td>bad</td>\n",
       "      <td>4</td>\n",
       "      <td>93</td>\n",
       "      <td>light</td>\n",
       "    </tr>\n",
       "  </tbody>\n",
       "</table>\n",
       "</div>"
      ],
      "text/plain": [
       "    MPG  cylinders   HP   weight\n",
       "2   bad          4  110   medium\n",
       "3   bad          8  175  weighty\n",
       "4   bad          6   95   medium\n",
       "5   bad          4   94    light\n",
       "6   bad          4   95    light\n",
       "7   bad          8  139  weighty\n",
       "8   bad          8  190  weighty\n",
       "9   bad          8  145  weighty\n",
       "10  bad          6  100   medium\n",
       "12  bad          6  100  weighty\n",
       "13  bad          8  170  weighty\n",
       "18  bad          6   95   medium\n",
       "19  bad          4   93    light"
      ]
     },
     "execution_count": 13,
     "metadata": {},
     "output_type": "execute_result"
    }
   ],
   "source": [
    "# Meets first condition HP > 92.5\n",
    "# All classified into one group of MPG (all bad) therefore no more splits necessary\n",
    "fs_df_yes"
   ]
  },
  {
   "cell_type": "code",
   "execution_count": 14,
   "metadata": {},
   "outputs": [
    {
     "data": {
      "text/html": [
       "<div>\n",
       "<style scoped>\n",
       "    .dataframe tbody tr th:only-of-type {\n",
       "        vertical-align: middle;\n",
       "    }\n",
       "\n",
       "    .dataframe tbody tr th {\n",
       "        vertical-align: top;\n",
       "    }\n",
       "\n",
       "    .dataframe thead th {\n",
       "        text-align: right;\n",
       "    }\n",
       "</style>\n",
       "<table border=\"1\" class=\"dataframe\">\n",
       "  <thead>\n",
       "    <tr style=\"text-align: right;\">\n",
       "      <th></th>\n",
       "      <th>MPG</th>\n",
       "      <th>cylinders</th>\n",
       "      <th>HP</th>\n",
       "      <th>weight</th>\n",
       "    </tr>\n",
       "  </thead>\n",
       "  <tbody>\n",
       "    <tr>\n",
       "      <th>0</th>\n",
       "      <td>good</td>\n",
       "      <td>4</td>\n",
       "      <td>75</td>\n",
       "      <td>light</td>\n",
       "    </tr>\n",
       "    <tr>\n",
       "      <th>1</th>\n",
       "      <td>bad</td>\n",
       "      <td>6</td>\n",
       "      <td>90</td>\n",
       "      <td>medium</td>\n",
       "    </tr>\n",
       "    <tr>\n",
       "      <th>11</th>\n",
       "      <td>good</td>\n",
       "      <td>4</td>\n",
       "      <td>92</td>\n",
       "      <td>medium</td>\n",
       "    </tr>\n",
       "    <tr>\n",
       "      <th>14</th>\n",
       "      <td>good</td>\n",
       "      <td>4</td>\n",
       "      <td>89</td>\n",
       "      <td>medium</td>\n",
       "    </tr>\n",
       "    <tr>\n",
       "      <th>15</th>\n",
       "      <td>good</td>\n",
       "      <td>4</td>\n",
       "      <td>65</td>\n",
       "      <td>light</td>\n",
       "    </tr>\n",
       "    <tr>\n",
       "      <th>16</th>\n",
       "      <td>bad</td>\n",
       "      <td>6</td>\n",
       "      <td>85</td>\n",
       "      <td>medium</td>\n",
       "    </tr>\n",
       "    <tr>\n",
       "      <th>17</th>\n",
       "      <td>good</td>\n",
       "      <td>4</td>\n",
       "      <td>81</td>\n",
       "      <td>light</td>\n",
       "    </tr>\n",
       "  </tbody>\n",
       "</table>\n",
       "</div>"
      ],
      "text/plain": [
       "     MPG  cylinders  HP  weight\n",
       "0   good          4  75   light\n",
       "1    bad          6  90  medium\n",
       "11  good          4  92  medium\n",
       "14  good          4  89  medium\n",
       "15  good          4  65   light\n",
       "16   bad          6  85  medium\n",
       "17  good          4  81   light"
      ]
     },
     "execution_count": 14,
     "metadata": {},
     "output_type": "execute_result"
    }
   ],
   "source": [
    "# Does not meet first condition HP > 92.5\n",
    "# Still a mix of good and bad MPG so more splits necessary\n",
    "fs_df_no"
   ]
  },
  {
   "cell_type": "code",
   "execution_count": 15,
   "metadata": {},
   "outputs": [
    {
     "data": {
      "text/plain": [
       "{4: ([5, 0, 0, 2], 0.86312056856663089),\n",
       " 6: ([0, 2, 5, 0], 0.86312056856663089)}"
      ]
     },
     "execution_count": 15,
     "metadata": {},
     "output_type": "execute_result"
    }
   ],
   "source": [
    "# To find the correct second split\n",
    "cylcheck(fs_df_no)"
   ]
  },
  {
   "cell_type": "code",
   "execution_count": 16,
   "metadata": {},
   "outputs": [
    {
     "data": {
      "text/plain": [
       "{'light': ([3, 0, 2, 2], 0.29169199713805949),\n",
       " 'medium': ([2, 2, 3, 0], 0.29169199713805949)}"
      ]
     },
     "execution_count": 16,
     "metadata": {},
     "output_type": "execute_result"
    }
   ],
   "source": [
    "weight_check(fs_df_no)"
   ]
  },
  {
   "cell_type": "code",
   "execution_count": 17,
   "metadata": {},
   "outputs": [
    {
     "data": {
      "text/plain": [
       "{83.0: ([2, 2, 3, 0], 0.29169199713805949),\n",
       " 87.0: ([2, 1, 3, 1], 0.0059777114237739171),\n",
       " 89.5: ([1, 1, 4, 1], 0.061743357932800738),\n",
       " 91.0: ([1, 0, 4, 2], 0.076009853662782872)}"
      ]
     },
     "execution_count": 17,
     "metadata": {},
     "output_type": "execute_result"
    }
   ],
   "source": [
    "hpsplits(fs_df_no)"
   ]
  },
  {
   "cell_type": "code",
   "execution_count": 18,
   "metadata": {},
   "outputs": [],
   "source": [
    "# Since the highest information gain comes from checking the number of cylinders, will use that criterion\n",
    "def second_split(df):\n",
    "    mask = df['cylinders'] == 4\n",
    "    df_yes = df[mask]\n",
    "    df_no = df[~mask]\n",
    "    return df_yes, df_no"
   ]
  },
  {
   "cell_type": "code",
   "execution_count": 19,
   "metadata": {},
   "outputs": [],
   "source": [
    "ss_df_yes = second_split(fs_df_no)[0]\n",
    "ss_df_no = second_split(fs_df_no)[1]"
   ]
  },
  {
   "cell_type": "code",
   "execution_count": 20,
   "metadata": {},
   "outputs": [
    {
     "data": {
      "text/html": [
       "<div>\n",
       "<style scoped>\n",
       "    .dataframe tbody tr th:only-of-type {\n",
       "        vertical-align: middle;\n",
       "    }\n",
       "\n",
       "    .dataframe tbody tr th {\n",
       "        vertical-align: top;\n",
       "    }\n",
       "\n",
       "    .dataframe thead th {\n",
       "        text-align: right;\n",
       "    }\n",
       "</style>\n",
       "<table border=\"1\" class=\"dataframe\">\n",
       "  <thead>\n",
       "    <tr style=\"text-align: right;\">\n",
       "      <th></th>\n",
       "      <th>MPG</th>\n",
       "      <th>cylinders</th>\n",
       "      <th>HP</th>\n",
       "      <th>weight</th>\n",
       "    </tr>\n",
       "  </thead>\n",
       "  <tbody>\n",
       "    <tr>\n",
       "      <th>0</th>\n",
       "      <td>good</td>\n",
       "      <td>4</td>\n",
       "      <td>75</td>\n",
       "      <td>light</td>\n",
       "    </tr>\n",
       "    <tr>\n",
       "      <th>11</th>\n",
       "      <td>good</td>\n",
       "      <td>4</td>\n",
       "      <td>92</td>\n",
       "      <td>medium</td>\n",
       "    </tr>\n",
       "    <tr>\n",
       "      <th>14</th>\n",
       "      <td>good</td>\n",
       "      <td>4</td>\n",
       "      <td>89</td>\n",
       "      <td>medium</td>\n",
       "    </tr>\n",
       "    <tr>\n",
       "      <th>15</th>\n",
       "      <td>good</td>\n",
       "      <td>4</td>\n",
       "      <td>65</td>\n",
       "      <td>light</td>\n",
       "    </tr>\n",
       "    <tr>\n",
       "      <th>17</th>\n",
       "      <td>good</td>\n",
       "      <td>4</td>\n",
       "      <td>81</td>\n",
       "      <td>light</td>\n",
       "    </tr>\n",
       "  </tbody>\n",
       "</table>\n",
       "</div>"
      ],
      "text/plain": [
       "     MPG  cylinders  HP  weight\n",
       "0   good          4  75   light\n",
       "11  good          4  92  medium\n",
       "14  good          4  89  medium\n",
       "15  good          4  65   light\n",
       "17  good          4  81   light"
      ]
     },
     "execution_count": 20,
     "metadata": {},
     "output_type": "execute_result"
    }
   ],
   "source": [
    "ss_df_yes"
   ]
  },
  {
   "cell_type": "code",
   "execution_count": 21,
   "metadata": {},
   "outputs": [
    {
     "data": {
      "text/html": [
       "<div>\n",
       "<style scoped>\n",
       "    .dataframe tbody tr th:only-of-type {\n",
       "        vertical-align: middle;\n",
       "    }\n",
       "\n",
       "    .dataframe tbody tr th {\n",
       "        vertical-align: top;\n",
       "    }\n",
       "\n",
       "    .dataframe thead th {\n",
       "        text-align: right;\n",
       "    }\n",
       "</style>\n",
       "<table border=\"1\" class=\"dataframe\">\n",
       "  <thead>\n",
       "    <tr style=\"text-align: right;\">\n",
       "      <th></th>\n",
       "      <th>MPG</th>\n",
       "      <th>cylinders</th>\n",
       "      <th>HP</th>\n",
       "      <th>weight</th>\n",
       "    </tr>\n",
       "  </thead>\n",
       "  <tbody>\n",
       "    <tr>\n",
       "      <th>1</th>\n",
       "      <td>bad</td>\n",
       "      <td>6</td>\n",
       "      <td>90</td>\n",
       "      <td>medium</td>\n",
       "    </tr>\n",
       "    <tr>\n",
       "      <th>16</th>\n",
       "      <td>bad</td>\n",
       "      <td>6</td>\n",
       "      <td>85</td>\n",
       "      <td>medium</td>\n",
       "    </tr>\n",
       "  </tbody>\n",
       "</table>\n",
       "</div>"
      ],
      "text/plain": [
       "    MPG  cylinders  HP  weight\n",
       "1   bad          6  90  medium\n",
       "16  bad          6  85  medium"
      ]
     },
     "execution_count": 21,
     "metadata": {},
     "output_type": "execute_result"
    }
   ],
   "source": [
    "ss_df_no"
   ]
  },
  {
   "cell_type": "markdown",
   "metadata": {},
   "source": [
    "### Classified data\n",
    "\n",
    "All necessary splits have now been made and all the training data has been perfectly classified. From the first split on HP > 92.5, we were left with one group with all bad MPG and another group with some good and some bad MPG. After the second split on cylinders == 4, we were left with one group of all good MPG and another group of all bad MPG.\n",
    "\n",
    "(See below for a graphical representation of the decision tree.)"
   ]
  },
  {
   "cell_type": "code",
   "execution_count": 22,
   "metadata": {},
   "outputs": [],
   "source": [
    "from IPython.display import Image"
   ]
  },
  {
   "cell_type": "code",
   "execution_count": 25,
   "metadata": {},
   "outputs": [
    {
     "data": {
      "image/png": "[encoded data removed]",
      "text/plain": [
       "<IPython.core.display.Image object>"
      ]
     },
     "execution_count": 25,
     "metadata": {
      "image/png": {
       "height": 500,
       "width": 500
      }
     },
     "output_type": "execute_result"
    }
   ],
   "source": [
    "Image(filename = \"images/decision_tree.png\", width=500, height=500)"
   ]
  },
  {
   "cell_type": "markdown",
   "metadata": {},
   "source": [
    "### Classifying new data\n",
    "\n",
    "Let's say we had four new cars added to the data set but we didn't know their MPG ratings. \n",
    "\n",
    "**?**,8,70,light\n",
    "\n",
    "**?**,6,113,medium\n",
    "\n",
    "**?**,4,83,weighty\n",
    "\n",
    "**?**,4,95,weighty\n",
    "\n",
    "What should their MPG ratings be, given the decision tree above?\n",
    "\n",
    "**Bad**,8,70,light\n",
    "\n",
    "**Bad**,6,113,medium\n",
    "\n",
    "**Good**,4,83,weighty\n",
    "\n",
    "**Bad**,4,95,weighty"
   ]
  },
  {
   "cell_type": "markdown",
   "metadata": {},
   "source": [
    "### Random forest with sklearn\n",
    "\n",
    "Now that I've shown how to manually build a decision tree, I'm going to cheat and use sklearn to create decision tree and random forest models to model and predict on a sample data set of health and sanitation in various countries. In this exercise, the goal is to accurately predict values seen in the BurdenOfDisease column based on all other columns (excluding the \"Country\" column)."
   ]
  },
  {
   "cell_type": "code",
   "execution_count": 27,
   "metadata": {},
   "outputs": [
    {
     "data": {
      "text/html": [
       "<div>\n",
       "<style scoped>\n",
       "    .dataframe tbody tr th:only-of-type {\n",
       "        vertical-align: middle;\n",
       "    }\n",
       "\n",
       "    .dataframe tbody tr th {\n",
       "        vertical-align: top;\n",
       "    }\n",
       "\n",
       "    .dataframe thead th {\n",
       "        text-align: right;\n",
       "    }\n",
       "</style>\n",
       "<table border=\"1\" class=\"dataframe\">\n",
       "  <thead>\n",
       "    <tr style=\"text-align: right;\">\n",
       "      <th></th>\n",
       "      <th>Country</th>\n",
       "      <th>FrxnPeaceIn10</th>\n",
       "      <th>ODA4H2OPcptaDol</th>\n",
       "      <th>RenewResm3PcptaYr</th>\n",
       "      <th>SustAccImprWatRur</th>\n",
       "      <th>SustAccImprWatUrb</th>\n",
       "      <th>SustAccImprSanRur</th>\n",
       "      <th>SustAccImprSanUrb</th>\n",
       "      <th>TotHlthExpPctofGDP</th>\n",
       "      <th>GenGovtPctofTotHlthExp</th>\n",
       "      <th>ExtResHlthPctTotExpHlth</th>\n",
       "      <th>PCptaGovtExpHlthAvgExcRt</th>\n",
       "      <th>GDPPCptaIntDol</th>\n",
       "      <th>AdultLtrcyRate</th>\n",
       "      <th>FemaleLtrcyRate</th>\n",
       "      <th>BurdenOfDisease</th>\n",
       "    </tr>\n",
       "  </thead>\n",
       "  <tbody>\n",
       "    <tr>\n",
       "      <th>0</th>\n",
       "      <td>Afghanistan</td>\n",
       "      <td>0.1</td>\n",
       "      <td>0.16</td>\n",
       "      <td>2986</td>\n",
       "      <td>0.10891</td>\n",
       "      <td>0.18812</td>\n",
       "      <td>0.049505</td>\n",
       "      <td>0.15842</td>\n",
       "      <td>0.065</td>\n",
       "      <td>0.395</td>\n",
       "      <td>0.4560</td>\n",
       "      <td>4</td>\n",
       "      <td>430</td>\n",
       "      <td>0.35644</td>\n",
       "      <td>0.20792</td>\n",
       "      <td>awful</td>\n",
       "    </tr>\n",
       "    <tr>\n",
       "      <th>1</th>\n",
       "      <td>Albania</td>\n",
       "      <td>1.0</td>\n",
       "      <td>5.58</td>\n",
       "      <td>13306</td>\n",
       "      <td>0.94059</td>\n",
       "      <td>0.98020</td>\n",
       "      <td>0.801980</td>\n",
       "      <td>0.98020</td>\n",
       "      <td>0.065</td>\n",
       "      <td>0.417</td>\n",
       "      <td>0.0340</td>\n",
       "      <td>49</td>\n",
       "      <td>6158</td>\n",
       "      <td>0.85644</td>\n",
       "      <td>0.78713</td>\n",
       "      <td>low</td>\n",
       "    </tr>\n",
       "    <tr>\n",
       "      <th>2</th>\n",
       "      <td>Algeria</td>\n",
       "      <td>0.0</td>\n",
       "      <td>0.33</td>\n",
       "      <td>473</td>\n",
       "      <td>0.79208</td>\n",
       "      <td>0.91089</td>\n",
       "      <td>0.811880</td>\n",
       "      <td>0.98020</td>\n",
       "      <td>0.041</td>\n",
       "      <td>0.808</td>\n",
       "      <td>0.0005</td>\n",
       "      <td>71</td>\n",
       "      <td>4860</td>\n",
       "      <td>0.69307</td>\n",
       "      <td>0.60396</td>\n",
       "      <td>high</td>\n",
       "    </tr>\n",
       "    <tr>\n",
       "      <th>3</th>\n",
       "      <td>Angola</td>\n",
       "      <td>0.2</td>\n",
       "      <td>0.63</td>\n",
       "      <td>14009</td>\n",
       "      <td>0.39604</td>\n",
       "      <td>0.69307</td>\n",
       "      <td>0.158420</td>\n",
       "      <td>0.55446</td>\n",
       "      <td>0.028</td>\n",
       "      <td>0.842</td>\n",
       "      <td>0.0670</td>\n",
       "      <td>22</td>\n",
       "      <td>1942</td>\n",
       "      <td>0.66139</td>\n",
       "      <td>0.53267</td>\n",
       "      <td>awful</td>\n",
       "    </tr>\n",
       "    <tr>\n",
       "      <th>4</th>\n",
       "      <td>Armenia</td>\n",
       "      <td>1.0</td>\n",
       "      <td>2.51</td>\n",
       "      <td>2780</td>\n",
       "      <td>0.79208</td>\n",
       "      <td>0.98020</td>\n",
       "      <td>0.603960</td>\n",
       "      <td>0.95050</td>\n",
       "      <td>0.060</td>\n",
       "      <td>0.202</td>\n",
       "      <td>0.1720</td>\n",
       "      <td>11</td>\n",
       "      <td>5697</td>\n",
       "      <td>0.97624</td>\n",
       "      <td>0.97030</td>\n",
       "      <td>low</td>\n",
       "    </tr>\n",
       "    <tr>\n",
       "      <th>5</th>\n",
       "      <td>Australia</td>\n",
       "      <td>1.0</td>\n",
       "      <td>0.00</td>\n",
       "      <td>25708</td>\n",
       "      <td>0.99010</td>\n",
       "      <td>0.99010</td>\n",
       "      <td>0.990100</td>\n",
       "      <td>0.99010</td>\n",
       "      <td>0.095</td>\n",
       "      <td>0.675</td>\n",
       "      <td>0.0005</td>\n",
       "      <td>1699</td>\n",
       "      <td>31454</td>\n",
       "      <td>0.98020</td>\n",
       "      <td>0.98020</td>\n",
       "      <td>low</td>\n",
       "    </tr>\n",
       "    <tr>\n",
       "      <th>6</th>\n",
       "      <td>Azerbaijan</td>\n",
       "      <td>0.9</td>\n",
       "      <td>1.30</td>\n",
       "      <td>3765</td>\n",
       "      <td>0.58416</td>\n",
       "      <td>0.94059</td>\n",
       "      <td>0.356440</td>\n",
       "      <td>0.72277</td>\n",
       "      <td>0.036</td>\n",
       "      <td>0.238</td>\n",
       "      <td>0.0190</td>\n",
       "      <td>8</td>\n",
       "      <td>4337</td>\n",
       "      <td>0.97822</td>\n",
       "      <td>0.97228</td>\n",
       "      <td>medium</td>\n",
       "    </tr>\n",
       "    <tr>\n",
       "      <th>7</th>\n",
       "      <td>Bahamas</td>\n",
       "      <td>1.0</td>\n",
       "      <td>0.00</td>\n",
       "      <td>66</td>\n",
       "      <td>0.85149</td>\n",
       "      <td>0.97030</td>\n",
       "      <td>0.990100</td>\n",
       "      <td>0.99010</td>\n",
       "      <td>0.064</td>\n",
       "      <td>0.475</td>\n",
       "      <td>0.0020</td>\n",
       "      <td>533</td>\n",
       "      <td>19930</td>\n",
       "      <td>0.94653</td>\n",
       "      <td>0.95545</td>\n",
       "      <td>low</td>\n",
       "    </tr>\n",
       "    <tr>\n",
       "      <th>8</th>\n",
       "      <td>Bangladesh</td>\n",
       "      <td>1.0</td>\n",
       "      <td>0.47</td>\n",
       "      <td>8809</td>\n",
       "      <td>0.71287</td>\n",
       "      <td>0.81188</td>\n",
       "      <td>0.386140</td>\n",
       "      <td>0.74257</td>\n",
       "      <td>0.034</td>\n",
       "      <td>0.313</td>\n",
       "      <td>0.1240</td>\n",
       "      <td>4</td>\n",
       "      <td>2098</td>\n",
       "      <td>0.42673</td>\n",
       "      <td>0.31485</td>\n",
       "      <td>high</td>\n",
       "    </tr>\n",
       "    <tr>\n",
       "      <th>9</th>\n",
       "      <td>Barbados</td>\n",
       "      <td>1.0</td>\n",
       "      <td>0.17</td>\n",
       "      <td>301</td>\n",
       "      <td>0.99010</td>\n",
       "      <td>0.99010</td>\n",
       "      <td>0.990100</td>\n",
       "      <td>0.98020</td>\n",
       "      <td>0.069</td>\n",
       "      <td>0.694</td>\n",
       "      <td>0.0270</td>\n",
       "      <td>479</td>\n",
       "      <td>16240</td>\n",
       "      <td>0.98713</td>\n",
       "      <td>0.98713</td>\n",
       "      <td>low</td>\n",
       "    </tr>\n",
       "  </tbody>\n",
       "</table>\n",
       "</div>"
      ],
      "text/plain": [
       "       Country  FrxnPeaceIn10  ODA4H2OPcptaDol  RenewResm3PcptaYr  \\\n",
       "0  Afghanistan            0.1             0.16               2986   \n",
       "1      Albania            1.0             5.58              13306   \n",
       "2      Algeria            0.0             0.33                473   \n",
       "3       Angola            0.2             0.63              14009   \n",
       "4      Armenia            1.0             2.51               2780   \n",
       "5    Australia            1.0             0.00              25708   \n",
       "6   Azerbaijan            0.9             1.30               3765   \n",
       "7      Bahamas            1.0             0.00                 66   \n",
       "8   Bangladesh            1.0             0.47               8809   \n",
       "9     Barbados            1.0             0.17                301   \n",
       "\n",
       "   SustAccImprWatRur  SustAccImprWatUrb  SustAccImprSanRur  SustAccImprSanUrb  \\\n",
       "0            0.10891            0.18812           0.049505            0.15842   \n",
       "1            0.94059            0.98020           0.801980            0.98020   \n",
       "2            0.79208            0.91089           0.811880            0.98020   \n",
       "3            0.39604            0.69307           0.158420            0.55446   \n",
       "4            0.79208            0.98020           0.603960            0.95050   \n",
       "5            0.99010            0.99010           0.990100            0.99010   \n",
       "6            0.58416            0.94059           0.356440            0.72277   \n",
       "7            0.85149            0.97030           0.990100            0.99010   \n",
       "8            0.71287            0.81188           0.386140            0.74257   \n",
       "9            0.99010            0.99010           0.990100            0.98020   \n",
       "\n",
       "   TotHlthExpPctofGDP  GenGovtPctofTotHlthExp  ExtResHlthPctTotExpHlth  \\\n",
       "0               0.065                   0.395                   0.4560   \n",
       "1               0.065                   0.417                   0.0340   \n",
       "2               0.041                   0.808                   0.0005   \n",
       "3               0.028                   0.842                   0.0670   \n",
       "4               0.060                   0.202                   0.1720   \n",
       "5               0.095                   0.675                   0.0005   \n",
       "6               0.036                   0.238                   0.0190   \n",
       "7               0.064                   0.475                   0.0020   \n",
       "8               0.034                   0.313                   0.1240   \n",
       "9               0.069                   0.694                   0.0270   \n",
       "\n",
       "   PCptaGovtExpHlthAvgExcRt  GDPPCptaIntDol  AdultLtrcyRate  FemaleLtrcyRate  \\\n",
       "0                         4             430         0.35644          0.20792   \n",
       "1                        49            6158         0.85644          0.78713   \n",
       "2                        71            4860         0.69307          0.60396   \n",
       "3                        22            1942         0.66139          0.53267   \n",
       "4                        11            5697         0.97624          0.97030   \n",
       "5                      1699           31454         0.98020          0.98020   \n",
       "6                         8            4337         0.97822          0.97228   \n",
       "7                       533           19930         0.94653          0.95545   \n",
       "8                         4            2098         0.42673          0.31485   \n",
       "9                       479           16240         0.98713          0.98713   \n",
       "\n",
       "  BurdenOfDisease  \n",
       "0           awful  \n",
       "1             low  \n",
       "2            high  \n",
       "3           awful  \n",
       "4             low  \n",
       "5             low  \n",
       "6          medium  \n",
       "7             low  \n",
       "8            high  \n",
       "9             low  "
      ]
     },
     "execution_count": 27,
     "metadata": {},
     "output_type": "execute_result"
    }
   ],
   "source": [
    "data=pd.read_csv(\"data/illness.csv\")\n",
    "data.head(10)"
   ]
  },
  {
   "cell_type": "markdown",
   "metadata": {},
   "source": [
    "### Data dictionary\n",
    "\n",
    "NAME: Burden of diarrheal illness by country\n",
    "\n",
    "SIZE: 130 Countries, 16 Variables\n",
    "\n",
    "VARIABLE DESCRIPTIONS:\n",
    "\n",
    "Country: Country name\n",
    "\n",
    "FrxnPeaceIn10: Fraction of the past ten years in which a country has been at peace \n",
    "\n",
    "ODA4H2OPcptaDol: Per Capita Official Developmental Assistance for water projects\n",
    "\n",
    "RenewResm3PcptaYr: Renewable Water Resources in cubic meters per capita per year\n",
    "\n",
    "SustAccImprWatRur: Fraction of rural population with sustainable access to improved water\n",
    "\n",
    "SustAccImprWatUrb: Fraction of urban population with sustainable access to improved water\n",
    "\n",
    "SustAccImprSanRur: Fraction of rural population with sustainable access to improved sanitation\n",
    "\n",
    "SustAccImprSanUrb: Fraction of urban population with sustainable access to improved sanitation\n",
    "\n",
    "TotHlthExpPctofGDP: Fraction of a country's GDP devoted to health spending\n",
    "\n",
    "GenGovtPctofTotHlthExp: The fraction of total health expenditures for a country which is provided by the government\n",
    "\n",
    "ExtResHlthPctTotExpHlth: The fraction of total health expenditures for a country which is comes from sources external to the country\n",
    "\n",
    "PCptaGovtExpHlthAvgExcRt: Per Capita Government Health Expenditures at the average exchange rate\n",
    "\n",
    "GDPPCptaIntDol: Gross Domestic Product per capita in international dollars\n",
    "\n",
    "AdultLtrcyRate: Adult Literacy rate\n",
    "\n",
    "FemaleLtrcyRate: Female Literacy rate\n",
    "\n",
    "BurdenOfDisease: Our target variable for classification.  The burden of disease due to diarrheal illness, categorized into \"low\", \"medium\", \"high\", and \"awful\" quartiles.  For each country, we have estimates of the number of Disability-Adjusted Life Years lost per 1000 persons per year (DALYs) due to diarrheal illness.  Countries with \"low\" burden of disease have up to 2.75345 DALYs; countries with \"medium\" burden of disease have between 2.75345 and 8.2127 DALYs; countries with \"high\" burden of disease have between 8.2127 and 26.699 DALYs; and countries with \"awful\" burden of diease have more than 26.699 DALYs."
   ]
  },
  {
   "cell_type": "markdown",
   "metadata": {},
   "source": [
    "### Decision tree\n",
    "\n",
    "Here I tune the max_depth parameter of the Decision Tree model"
   ]
  },
  {
   "cell_type": "code",
   "execution_count": 28,
   "metadata": {},
   "outputs": [
    {
     "name": "stdout",
     "output_type": "stream",
     "text": [
      "Accuracy of DTC on max_depth range between 3 and 20\n"
     ]
    },
    {
     "data": {
      "text/plain": [
       "[0.59615384615384615,\n",
       " 0.59615384615384615,\n",
       " 0.63461538461538458,\n",
       " 0.69230769230769229,\n",
       " 0.57692307692307687,\n",
       " 0.61538461538461542,\n",
       " 0.61538461538461542,\n",
       " 0.67307692307692313,\n",
       " 0.61538461538461542,\n",
       " 0.63461538461538458,\n",
       " 0.63461538461538458,\n",
       " 0.61538461538461542,\n",
       " 0.67307692307692313,\n",
       " 0.63461538461538458,\n",
       " 0.61538461538461542,\n",
       " 0.63461538461538458,\n",
       " 0.59615384615384615,\n",
       " 0.55769230769230771]"
      ]
     },
     "execution_count": 28,
     "metadata": {},
     "output_type": "execute_result"
    }
   ],
   "source": [
    "from sklearn.model_selection import train_test_split\n",
    "from sklearn.tree import DecisionTreeClassifier\n",
    "\n",
    "# your code here\n",
    "X = np.asarray(data.iloc[:,1:-1])\n",
    "y = np.asarray(data.BurdenOfDisease)\n",
    "\n",
    "# Max depth between 3 and 20\n",
    "OS=[]\n",
    "for i in range(3, 21):\n",
    "    X_train, X_test, y_train, y_test = train_test_split(X, y, test_size = 0.4, random_state = 0)    \n",
    "    dt=DecisionTreeClassifier(max_depth = i)\n",
    "    dt.fit(X_train,y_train)\n",
    "    OS.append(dt.score(X_test,y_test))\n",
    "\n",
    "print(\"Accuracy of DTC on max_depth range between 3 and 20\")\n",
    "OS"
   ]
  },
  {
   "cell_type": "markdown",
   "metadata": {},
   "source": [
    "### Plot of accuracy"
   ]
  },
  {
   "cell_type": "code",
   "execution_count": 29,
   "metadata": {},
   "outputs": [
    {
     "data": {
      "text/plain": [
       "<Figure size 640x480 with 1 Axes>"
      ]
     },
     "metadata": {},
     "output_type": "display_data"
    }
   ],
   "source": [
    "import matplotlib.pylab as plt\n",
    "\n",
    "# your code here\n",
    "ax = plt.gca()\n",
    "ax.plot(range(3,21), OS)\n",
    "plt.xlabel('Tree depth')\n",
    "plt.ylabel('Accuracy')\n",
    "plt.title('Model Accuracy as Tree Depth Increases')\n",
    "plt.show()"
   ]
  },
  {
   "cell_type": "markdown",
   "metadata": {},
   "source": [
    "### Tune using GridSearchCV\n",
    "\n",
    "Similar to the model above except I tune the max_depth parameter using GridSearchCV."
   ]
  },
  {
   "cell_type": "code",
   "execution_count": 30,
   "metadata": {},
   "outputs": [
    {
     "name": "stdout",
     "output_type": "stream",
     "text": [
      "Accuracy of output when tuning max_depth with GridSearchCV:\n",
      "\n",
      "0.615384615385\n"
     ]
    }
   ],
   "source": [
    "from sklearn.model_selection import GridSearchCV\n",
    "\n",
    "# your code here\n",
    "param_grid ={'max_depth':range(3,21)}\n",
    "\n",
    "X_train, X_test, y_train, y_test = train_test_split(X, y, test_size = 0.4, random_state = 0)\n",
    "dt=DecisionTreeClassifier()\n",
    "gr=GridSearchCV(dt,param_grid=param_grid)\n",
    "rs=gr.fit(X_train,y_train)\n",
    "print(\"Accuracy of output when tuning max_depth with GridSearchCV:\")\n",
    "print\n",
    "print(rs.score(X_test, y_test))"
   ]
  },
  {
   "cell_type": "markdown",
   "metadata": {},
   "source": [
    "### Random Forest Model\n",
    "\n",
    "Now I use build a Random Forest Classifier using sklearn. In this example, I tune the n_estimators parameter using GridSearchCV to find the best accuracy score for models with between 10 and 100 n_estimators."
   ]
  },
  {
   "cell_type": "code",
   "execution_count": 31,
   "metadata": {},
   "outputs": [
    {
     "name": "stdout",
     "output_type": "stream",
     "text": [
      "Tuning n_estimators for RFC with GridSearchCV:\n",
      "\n",
      "0.730769230769\n"
     ]
    }
   ],
   "source": [
    "from sklearn.ensemble import RandomForestClassifier\n",
    "from sklearn.model_selection import GridSearchCV\n",
    "\n",
    "# your code here\n",
    "param_grid ={'n_estimators':range(10,101)}\n",
    "\n",
    "X_train, X_test, y_train, y_test = train_test_split(X, y, test_size = 0.4, random_state = 0)\n",
    "rfc=RandomForestClassifier()\n",
    "gr=GridSearchCV(rfc,param_grid=param_grid)\n",
    "rs=gr.fit(X_train,y_train)\n",
    "print(\"Tuning n_estimators for RFC with GridSearchCV:\")\n",
    "print\n",
    "print(rs.score(X_test, y_test))"
   ]
  },
  {
   "cell_type": "markdown",
   "metadata": {
    "collapsed": true
   },
   "source": [
    "### Comparison of the Decision Tree and Random Forest"
   ]
  },
  {
   "cell_type": "markdown",
   "metadata": {
    "collapsed": true
   },
   "source": [
    "In this example, the random forest model slightly outperforms the decision tree in terms of accuracy (.73 vs .62). However, by using a random forest we are inherently sacrificing some interpretability. Which model we decide to use depends somewhat on the purpose for which the data modelling is being used. In this case, since we are trying to predict the rate of diarrheal illness using data related to large-scale populations, it may make more sense to use the random forest model since we achieve greater accuracy and since we will not have to rely on specific nodes within the model to make particular decisions on a given course of action. We can rely on the random forest model to give us a better overall sense of where a problem lies, which would be the first step to actually solving the problem."
   ]
  },
  {
   "cell_type": "code",
   "execution_count": null,
   "metadata": {},
   "outputs": [],
   "source": []
  }
 ],
 "metadata": {
  "kernelspec": {
   "display_name": "myEnv",
   "language": "python",
   "name": "myenv"
  },
  "language_info": {
   "codemirror_mode": {
    "name": "ipython",
    "version": 2
   },
   "file_extension": ".py",
   "mimetype": "text/x-python",
   "name": "python",
   "nbconvert_exporter": "python",
   "pygments_lexer": "ipython2",
   "version": "2.7.15"
  }
 },
 "nbformat": 4,
 "nbformat_minor": 2
}
