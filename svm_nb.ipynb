{
 "cells": [
  {
   "cell_type": "markdown",
   "metadata": {},
   "source": [
    "# Modelling practice with SVMs and Naive Bayes Classifiers"
   ]
  },
  {
   "cell_type": "code",
   "execution_count": 1,
   "metadata": {},
   "outputs": [],
   "source": [
    "import numpy as np\n",
    "import pandas as pd\n",
    "import matplotlib.pyplot as plt\n",
    "from matplotlib import rcParams\n",
    "from sklearn import svm\n",
    "from sklearn.model_selection import train_test_split\n",
    "import math\n",
    "from scipy import stats\n",
    "rcParams['figure.figsize'] = 6, 4"
   ]
  },
  {
   "cell_type": "markdown",
   "metadata": {},
   "source": [
    "## Linear SVM\n",
    "\n",
    "Using the data in svm.csv, train a linear SVM (C=100000)."
   ]
  },
  {
   "cell_type": "code",
   "execution_count": 2,
   "metadata": {},
   "outputs": [
    {
     "data": {
      "image/png": "[encoded data removed]",
      "text/plain": [
       "<Figure size 432x288 with 1 Axes>"
      ]
     },
     "metadata": {
      "needs_background": "light"
     },
     "output_type": "display_data"
    }
   ],
   "source": [
    "# Data and sample plot\n",
    "data1=pd.read_csv('data/svm.csv')\n",
    "X=data1.iloc[:,:2]\n",
    "Y=data1.iloc[:,2]\n",
    "plt.gca()\n",
    "plt.scatter(X.iloc[:,0], X.iloc[:,1], s=50, c=Y, cmap=plt.cm.get_cmap('coolwarm', 2))\n",
    "plt.show()"
   ]
  },
  {
   "cell_type": "markdown",
   "metadata": {},
   "source": [
    "#### a. Report the separating hyperplane (line)."
   ]
  },
  {
   "cell_type": "code",
   "execution_count": 3,
   "metadata": {},
   "outputs": [
    {
     "data": {
      "text/plain": [
       "SVC(C=100000, cache_size=200, class_weight=None, coef0=0.0,\n",
       "  decision_function_shape='ovr', degree=3, gamma='auto_deprecated',\n",
       "  kernel='linear', max_iter=-1, probability=False, random_state=None,\n",
       "  shrinking=True, tol=0.001, verbose=False)"
      ]
     },
     "execution_count": 3,
     "metadata": {},
     "output_type": "execute_result"
    }
   ],
   "source": [
    "clf = svm.SVC(kernel='linear',C=100000)  \n",
    "clf.fit(X, Y)"
   ]
  },
  {
   "cell_type": "code",
   "execution_count": 4,
   "metadata": {},
   "outputs": [
    {
     "data": {
      "text/plain": [
       "array([0.66329036, 0.56359437])"
      ]
     },
     "execution_count": 4,
     "metadata": {},
     "output_type": "execute_result"
    }
   ],
   "source": [
    "w = clf.coef_[0]\n",
    "w"
   ]
  },
  {
   "cell_type": "code",
   "execution_count": 5,
   "metadata": {},
   "outputs": [],
   "source": [
    "# Find the parameters for the hyperplane\n",
    "a = -w[0] / w[1]\n",
    "x1 = np.linspace(-3, 4)\n",
    "x2 = a * x1 - (clf.intercept_[0]) / w[1]"
   ]
  },
  {
   "cell_type": "code",
   "execution_count": 6,
   "metadata": {},
   "outputs": [
    {
     "name": "stdout",
     "output_type": "stream",
     "text": [
      "Separating hyperplane: x2 = -1.177 * x1 - 0.077\n"
     ]
    }
   ],
   "source": [
    "print(\"Separating hyperplane: x2 = \" + str(round(a, 3)) + \" * x1 - \" + str(round((clf.intercept_[0])/w[1], 3)))"
   ]
  },
  {
   "cell_type": "markdown",
   "metadata": {},
   "source": [
    "#### b. List the support vectors."
   ]
  },
  {
   "cell_type": "code",
   "execution_count": 7,
   "metadata": {},
   "outputs": [
    {
     "name": "stdout",
     "output_type": "stream",
     "text": [
      "[[ 0.22627536 -2.11810965]\n",
      " [-1.5180363  -0.06399383]\n",
      " [ 0.93564585  0.5969359 ]]\n"
     ]
    }
   ],
   "source": [
    "print(clf.support_vectors_)"
   ]
  },
  {
   "cell_type": "markdown",
   "metadata": {},
   "source": [
    "#### c. Calculate the upper and lower hyperplanes of the margin."
   ]
  },
  {
   "cell_type": "code",
   "execution_count": 8,
   "metadata": {},
   "outputs": [],
   "source": [
    "# Lower hyperplane\n",
    "b_down = clf.support_vectors_[0]\n",
    "x2_down = a * x1 + (b_down[1] - a * b_down[0])"
   ]
  },
  {
   "cell_type": "code",
   "execution_count": 9,
   "metadata": {},
   "outputs": [],
   "source": [
    "# Upper hyperplane\n",
    "b_up = clf.support_vectors_[-1]\n",
    "x2_up = a * x1 + (b_up[1] - a * b_up[0])"
   ]
  },
  {
   "cell_type": "code",
   "execution_count": 10,
   "metadata": {},
   "outputs": [
    {
     "name": "stdout",
     "output_type": "stream",
     "text": [
      "Upper hyperplane: x2 = -1.177 * x1 + 1.698\n",
      "Lower hyperplane: x2 = -1.177 * x1 + -1.852\n"
     ]
    }
   ],
   "source": [
    "print(\"Upper hyperplane: x2 = \" + str(round(a, 3)) + \" * x1 + \" + str(round((b_up[1] - a * b_up[0]), 3)))\n",
    "print(\"Lower hyperplane: x2 = \" + str(round(a, 3)) + \" * x1 + \" + str(round((b_down[1] - a * b_down[0]), 3)))"
   ]
  },
  {
   "cell_type": "markdown",
   "metadata": {},
   "source": [
    "#### d. Compute the width of the margin."
   ]
  },
  {
   "cell_type": "code",
   "execution_count": 11,
   "metadata": {},
   "outputs": [],
   "source": [
    "# Negative reciprocal coefficient\n",
    "nrc = -1/a\n",
    "# Set the negative reciprocal equal to the margin line and solve for x\n",
    "unk_x = (-1*((clf.intercept_[0]) / w[1]) - (b_up[1] - a * b_up[0]))/(a-nrc)\n",
    "# Then calculate y\n",
    "unk_y = nrc * unk_x - (clf.intercept_[0]) / w[1]"
   ]
  },
  {
   "cell_type": "code",
   "execution_count": 12,
   "metadata": {},
   "outputs": [
    {
     "name": "stdout",
     "output_type": "stream",
     "text": [
      "Width of margin: 1.149\n"
     ]
    }
   ],
   "source": [
    "y_diff = unk_y - (-1/a * 0 - (clf.intercept_[0]) / w[1])\n",
    "dist = np.sqrt(unk_x**2 + y_diff**2)\n",
    "print(\"Width of margin: \" + str(round(dist, 3)))"
   ]
  },
  {
   "cell_type": "markdown",
   "metadata": {},
   "source": [
    "## Polynomial SVM"
   ]
  },
  {
   "cell_type": "code",
   "execution_count": 13,
   "metadata": {},
   "outputs": [
    {
     "data": {
      "image/png": "[encoded data removed]",
      "text/plain": [
       "<Figure size 432x288 with 1 Axes>"
      ]
     },
     "metadata": {
      "needs_background": "light"
     },
     "output_type": "display_data"
    }
   ],
   "source": [
    "# Data \n",
    "data2=pd.read_csv('data/poly.csv')\n",
    "X=data2.iloc[:,:2]\n",
    "Y=data2.iloc[:,2]\n",
    "\n",
    "plt.gca()\n",
    "plt.scatter(X.iloc[:,0], X.iloc[:,1], s=50, c=Y, cmap=plt.cm.get_cmap('coolwarm', 2));\n",
    "plt.show()\n",
    "\n",
    "# Generate training (X_train, Y_train) and testing (X_test, Y_test) datasets for out of sample test\n",
    "X_train, X_test, Y_train, Y_test = train_test_split(X, Y, test_size=0.33, random_state=1)"
   ]
  },
  {
   "cell_type": "markdown",
   "metadata": {},
   "source": [
    "#### a. Train a polynomial SVM using the training set."
   ]
  },
  {
   "cell_type": "code",
   "execution_count": 14,
   "metadata": {},
   "outputs": [
    {
     "name": "stderr",
     "output_type": "stream",
     "text": [
      "/nfshome/shb395/.conda/envs/myEnvp3/lib/python2.7/site-packages/sklearn/svm/base.py:196: FutureWarning: The default value of gamma will change from 'auto' to 'scale' in version 0.22 to account better for unscaled features. Set gamma explicitly to 'auto' or 'scale' to avoid this warning.\n",
      "  \"avoid this warning.\", FutureWarning)\n"
     ]
    },
    {
     "data": {
      "text/plain": [
       "SVC(C=1.0, cache_size=200, class_weight=None, coef0=0.0,\n",
       "  decision_function_shape='ovr', degree=3, gamma='auto_deprecated',\n",
       "  kernel='poly', max_iter=-1, probability=False, random_state=None,\n",
       "  shrinking=True, tol=0.001, verbose=False)"
      ]
     },
     "execution_count": 14,
     "metadata": {},
     "output_type": "execute_result"
    }
   ],
   "source": [
    "clf = svm.SVC(kernel='poly') \n",
    "clf.fit(X, Y)"
   ]
  },
  {
   "cell_type": "code",
   "execution_count": 15,
   "metadata": {},
   "outputs": [
    {
     "name": "stdout",
     "output_type": "stream",
     "text": [
      "In sample, we successfully predict 84.0% of the data\n",
      "Out of sample, we successfully predict 87.0% of the data\n"
     ]
    }
   ],
   "source": [
    "print(\"In sample, we successfully predict {}% of the data\".format((round(100*(clf.predict(X_train)==Y_train).sum()/len(Y_train), 2))))\n",
    "print(\"Out of sample, we successfully predict {}% of the data\".format((round(100*(clf.predict(X_test)==Y_test).sum()/len(Y_test), 2))))"
   ]
  },
  {
   "cell_type": "markdown",
   "metadata": {},
   "source": [
    "#### b. Use the validation subset to find the optimal parameters for the polynomial model (using models of degree 1, 2, 3, and 4). "
   ]
  },
  {
   "cell_type": "code",
   "execution_count": 16,
   "metadata": {},
   "outputs": [],
   "source": [
    "# Generate validation data\n",
    "X_train_1,X_vali,Y_train_1,Y_vali = train_test_split(X_train, Y_train, test_size=0.33, random_state=99)\n",
    "\n",
    "results_dict = {}\n",
    "degrees = range(1,5)\n",
    "for degree in degrees:\n",
    "    C=[math.exp(i) for i in np.linspace(-10,2*degree,200)]\n",
    "    OS_validation=[]\n",
    "    for c in C:\n",
    "        clf = svm.SVC(kernel='poly',degree=degree,C=c) \n",
    "        clf.fit(X_train_1, Y_train_1)\n",
    "        correct=1.0*(clf.predict(X_vali)==np.asarray(Y_vali)).sum()/len(Y_vali) # OS score for validation set\n",
    "        for_append = (c, correct)\n",
    "        OS_validation.append(for_append)\n",
    "    results_dict[degree] = OS_validation"
   ]
  },
  {
   "cell_type": "code",
   "execution_count": 17,
   "metadata": {},
   "outputs": [
    {
     "data": {
      "image/png": "[encoded data removed]",
      "text/plain": [
       "<Figure size 720x504 with 1 Axes>"
      ]
     },
     "metadata": {
      "needs_background": "light"
     },
     "output_type": "display_data"
    }
   ],
   "source": [
    "plt.figure(figsize=(10,7))\n",
    "for k, v in results_dict.items():\n",
    "    final_xs = []\n",
    "    final_ys = []\n",
    "    for pair in v:\n",
    "        final_xs.append(pair[0])\n",
    "        final_ys.append(pair[1])\n",
    "    plt.plot(np.log(final_xs), final_ys, '.-', label=k)\n",
    "plt.xlabel('log(C)', fontsize=15)\n",
    "plt.ylabel('Accuracy', fontsize=15)\n",
    "plt.title('Accuracy vs. log(C)', fontsize=20)\n",
    "plt.legend()\n",
    "plt.show()"
   ]
  },
  {
   "cell_type": "markdown",
   "metadata": {},
   "source": [
    "#### c. Choose the optimal degree and the optimal regularization constant C based on these graphs.  \n",
    "\n",
    "Use the optimal degree and C to compute and report the final out-of-sample accuracy of the best classification model selected. "
   ]
  },
  {
   "cell_type": "code",
   "execution_count": 18,
   "metadata": {},
   "outputs": [],
   "source": [
    "max_dict = {}\n",
    "for k, v in results_dict.items():\n",
    "    accuracies = []\n",
    "    for pair in v:\n",
    "        accuracy = pair[1]\n",
    "        accuracies.append(accuracy)\n",
    "    max_value = max(accuracies)\n",
    "    max_dict[k] = max_value"
   ]
  },
  {
   "cell_type": "code",
   "execution_count": 19,
   "metadata": {},
   "outputs": [
    {
     "data": {
      "text/plain": [
       "{1: 0.8378378378378378,\n",
       " 2: 0.7432432432432432,\n",
       " 3: 0.8738738738738738,\n",
       " 4: 0.7207207207207207}"
      ]
     },
     "execution_count": 19,
     "metadata": {},
     "output_type": "execute_result"
    }
   ],
   "source": [
    "# Degrees and max accuracies\n",
    "max_dict"
   ]
  },
  {
   "cell_type": "code",
   "execution_count": 20,
   "metadata": {},
   "outputs": [],
   "source": [
    "# Then print out the best one\n",
    "max_value = max(max_dict.values())\n",
    "max_key = [k for k, v in max_dict.items() if v == max_value]"
   ]
  },
  {
   "cell_type": "code",
   "execution_count": 21,
   "metadata": {},
   "outputs": [
    {
     "name": "stdout",
     "output_type": "stream",
     "text": [
      "Degree with max accuracy: 3\n",
      "Max accuracy: 0.873873873874\n"
     ]
    }
   ],
   "source": [
    "print(\"Degree with max accuracy: \" + str(max_key[0]))\n",
    "print(\"Max accuracy: \" + str(max_value))"
   ]
  },
  {
   "cell_type": "code",
   "execution_count": 22,
   "metadata": {},
   "outputs": [],
   "source": [
    "\"\"\"\n",
    "Find the optimal C value\n",
    "\n",
    "Note that I'm collecting a list of multiple C values since more than one C value resulted in the max accuracy \n",
    "of .874.\n",
    "\"\"\"\n",
    "optimal_cs = []\n",
    "for k, v in results_dict.items():\n",
    "    for pair in v:\n",
    "        if pair[1] == max_value:\n",
    "            optimal_cs.append(pair[0])"
   ]
  },
  {
   "cell_type": "code",
   "execution_count": 23,
   "metadata": {},
   "outputs": [
    {
     "data": {
      "text/plain": [
       "[26.214997175778556,\n",
       " 28.409786143837067,\n",
       " 30.788328655030067,\n",
       " 33.366009042478474,\n",
       " 36.159499656402126,\n",
       " 39.18686870032154,\n",
       " 42.467697095591774,\n",
       " 46.023205130144326,\n",
       " 49.87638971059755,\n",
       " 54.05217310547619,\n",
       " 58.57756414160797,\n",
       " 63.481832896308795,\n",
       " 68.7967000152602,\n",
       " 74.5565418805813]"
      ]
     },
     "execution_count": 23,
     "metadata": {},
     "output_type": "execute_result"
    }
   ],
   "source": [
    "optimal_cs"
   ]
  },
  {
   "cell_type": "code",
   "execution_count": 24,
   "metadata": {
    "scrolled": true
   },
   "outputs": [],
   "source": [
    "# Find accuracies for models with degree 3 and all optimal Cs\n",
    "OS_test=[]\n",
    "for c in optimal_cs:\n",
    "    clf = svm.SVC(kernel='poly',degree=3,C=c) \n",
    "    clf.fit(X_train_1, Y_train_1)\n",
    "    correct=1.0*(clf.predict(X_test)==np.asarray(Y_test)).sum()/len(Y_test) # OS score for test set\n",
    "    OS_test.append(correct)"
   ]
  },
  {
   "cell_type": "code",
   "execution_count": 25,
   "metadata": {},
   "outputs": [
    {
     "name": "stdout",
     "output_type": "stream",
     "text": [
      "OS accuracy for a poly SVM with degree 3 (and all values of C that resulted in max accuracy with the validation set): 0.886\n"
     ]
    }
   ],
   "source": [
    "# OS accuracy\n",
    "print(\"OS accuracy for a poly SVM with degree 3 (and all values of C that resulted in max accuracy with the \\\n",
    "validation set): \" + str(round(np.mean(OS_test), 3)))"
   ]
  },
  {
   "cell_type": "markdown",
   "metadata": {},
   "source": [
    "## Probability by hand\n",
    "\n",
    "Here's a sample dataset containing records of cars with three features: the type of the car (sports or SUV), the color of the car (red or yellow), and the origin of the car (domestic or imported). And the labels for the data are yes (car was stolen) and no (car was not stolen).\n",
    "\n",
    "CarType,Color,Origin,Stolen?\n",
    "\n",
    "sports,red,domestic,yes\n",
    "\n",
    "sports,red,domestic,yes\n",
    "\n",
    "sports,red,domestic,yes\n",
    "\n",
    "sports,red,domestic,no\n",
    "\n",
    "SUV,red,domestic,no\n",
    "\n",
    "SUV,red,imported,yes\n",
    "\n",
    "SUV,yellow,imported,no\n",
    "\n",
    "SUV,yellow,imported,yes\n",
    "\n",
    "SUV,yellow,domestic,no\n",
    "\n",
    "sports,yellow,imported,no\n",
    "\n",
    "sports,red,imported,yes\n",
    "\n",
    "\n",
    "### a) Calculate the following sample probabilities:\n",
    "\n",
    "P(Yes) - 6/11\n",
    "\n",
    "P(No) - 5/11\n",
    "\n",
    "P(Red|Yes) - 5/6\n",
    "\n",
    "P(SUV|Yes) - 1/3\n",
    "\n",
    "P(Domestic|Yes) - 1/2\n",
    "\n",
    "P(Red|No) - 2/5\n",
    "\n",
    "P(SUV|No) - 3/5\n",
    "\n",
    "P(Domestic|No) - 3/5\n",
    "\n",
    "### b) Using naive Bayes classification, what is the probability that a red, domestic SUV will be stolen?\n",
    "\n",
    "Prior (Stolen=Yes): 6/11\n",
    "\n",
    "Prior (Stolen=No): 5/11\n",
    "\n",
    "Total Likelihood (Red Domestic SUV | Yes): 5/6 x 1/3 x 1/2 = .139\n",
    "\n",
    "Total Likelihood (Red Domestic SUV | No): 2/5 x 3/5 x 3/5 = .144\n",
    "\n",
    "Unnormalized posterior (Yes): .139 x 6/11 = .076\n",
    "\n",
    "Unnormalized posterior (No): .144 x 5/11 = .065\n",
    "\n",
    "Sum of unnormalized posteriors: .076 + .065 = .141\n",
    "\n",
    "Normalized posterior (Yes): .076 / .141 = .539\n",
    "\n",
    "Normalized posterior (No): .065 / .141 = .461\n"
   ]
  },
  {
   "cell_type": "markdown",
   "metadata": {},
   "source": [
    "## Gaussian Naive Bayes classification\n",
    "\n",
    "Use eight factors to predict if people have diabetes or not. The variables are:\n",
    "\n",
    "y: The label (0 - no diabetes, 1 - diabetes)\n",
    "\n",
    "t_pre: Number of times pregnant\n",
    "\n",
    "glu: Plasma glucose concentration a 2 hours in an oral glucose tolerance test\n",
    "\n",
    "blood_p: Diastolic blood pressure (mm Hg)\n",
    "\n",
    "triceps: Triceps skin fold thickness (mm)\n",
    "\n",
    "serum: 2-Hour serum insulin (mu U/ml)\n",
    "\n",
    "b_m: Body mass index (weight in kg/(height in m)^2)\n",
    "\n",
    "pedigree_f: Diabetes pedigree function\n",
    "\n",
    "age: Age (years)\n",
    "\n",
    "### Using the data provided below, learn a Naive Bayes classifier from the training data:"
   ]
  },
  {
   "cell_type": "code",
   "execution_count": 26,
   "metadata": {},
   "outputs": [
    {
     "name": "stdout",
     "output_type": "stream",
     "text": [
      "   t_pre    glu  blood_p  triceps  serum   b_m  pedigree_f   age\n",
      "0    3.0  158.0     64.0     13.0  387.0  31.2       0.295  24.0\n",
      "1    0.0   84.0     64.0     22.0   66.0  35.8       0.545  21.0\n",
      "2    9.0  120.0     72.0     22.0   56.0  20.8       0.733  48.0\n",
      "3    4.0  110.0     76.0     20.0  100.0  28.4       0.118  27.0\n",
      "4    2.0  100.0     66.0     20.0   90.0  32.9       0.867  28.0\n"
     ]
    }
   ],
   "source": [
    "# Training data\n",
    "data_train=pd.read_csv(\"data/gnb_train.csv\") \n",
    "y_train=data_train.iloc[:,1] \n",
    "X_train=data_train.iloc[:,2:] \n",
    "\n",
    "# Testing data\n",
    "data_test=pd.read_csv(\"data/gnb_test.csv\")\n",
    "y_test=data_test.iloc[:,1]\n",
    "X_test=data_test.iloc[:,2:]\n",
    "\n",
    "print(X_train.head())"
   ]
  },
  {
   "cell_type": "markdown",
   "metadata": {},
   "source": [
    "#### a) Prediction accuracy for Naive Bayes"
   ]
  },
  {
   "cell_type": "code",
   "execution_count": 27,
   "metadata": {},
   "outputs": [],
   "source": [
    "# Training a binary Gaussian Naive Bayes Classifier with real-valued input attributes.\n",
    "# Assume that the binary output variable takes on values 0 or 1. \n",
    "def trainGaussianNaiveBayes(X,y):\n",
    "    prior = 1.*y.sum()/y.count()\n",
    "    nbc = {'prior':prior}\n",
    "    X_1 = X[y==1]\n",
    "    X_0 = X[y==0]\n",
    "    for j in X.columns:\n",
    "        nbc[j+'_mu1'] = X_1[j].mean()\n",
    "        nbc[j+'_sigma1'] = X_1[j].std()\n",
    "        nbc[j+'_mu0'] = X_0[j].mean()\n",
    "        nbc[j+'_sigma0'] = X_0[j].std()\n",
    "    return nbc\n",
    "\n",
    "def testGaussianNaiveBayes(X,nbc):\n",
    "    y_pred = pd.Series(index=X.index)\n",
    "    for i in X.index:\n",
    "        # compute odds of y=1\n",
    "        y_pred[i] = nbc['prior']/(1-nbc['prior']) # prior odds\n",
    "        for j in X.columns:\n",
    "            thevalue = X.loc[i,j]\n",
    "            pdf1 = stats.norm.pdf(thevalue,loc=nbc[j+'_mu1'],scale=nbc[j+'_sigma1'])\n",
    "            pdf0 = stats.norm.pdf(thevalue,loc=nbc[j+'_mu0'],scale=nbc[j+'_sigma0'])\n",
    "            y_pred[i] = y_pred[i]*pdf1/pdf0 if pdf0 > 0 else 1E10\n",
    "        # convert odds to probability of y=1\n",
    "        y_pred[i] = y_pred[i]/(1.0+y_pred[i])\n",
    "    return y_pred"
   ]
  },
  {
   "cell_type": "code",
   "execution_count": 28,
   "metadata": {},
   "outputs": [
    {
     "name": "stdout",
     "output_type": "stream",
     "text": [
      "('In sample prediction accuracy: {}', 0.7627118644067796)\n",
      "('Out of sample prediction accuracy: {}', 0.7911392405063291)\n"
     ]
    }
   ],
   "source": [
    "naive_bayes_classifier = trainGaussianNaiveBayes(X_train,y_train)\n",
    "\n",
    "y_pred_train = testGaussianNaiveBayes(X_train,naive_bayes_classifier)\n",
    "y_pred_test = testGaussianNaiveBayes(X_test,naive_bayes_classifier)\n",
    "\n",
    "# measure accuracy for the binary prediction task\n",
    "print('In sample prediction accuracy: {}',1.0*sum((y_pred_train>0.5)==y_train)/len(y_train))\n",
    "print('Out of sample prediction accuracy: {}',1.0*sum((y_pred_test>0.5)==y_test)/len(y_test))"
   ]
  },
  {
   "cell_type": "markdown",
   "metadata": {},
   "source": [
    "#### b) What is the prior probability of diabetes, learned from the training data?"
   ]
  },
  {
   "cell_type": "code",
   "execution_count": 29,
   "metadata": {},
   "outputs": [
    {
     "name": "stdout",
     "output_type": "stream",
     "text": [
      "prior\n",
      "30.08%\n"
     ]
    }
   ],
   "source": [
    "for i,j in naive_bayes_classifier.items():\n",
    "    if i == 'prior':\n",
    "        print(i)\n",
    "        print(\"{}%\".format(round(j*100,2)))"
   ]
  },
  {
   "cell_type": "markdown",
   "metadata": {},
   "source": [
    "#### c) What is the mean and variance of each input variable for patients with diabetes?"
   ]
  },
  {
   "cell_type": "code",
   "execution_count": 30,
   "metadata": {},
   "outputs": [
    {
     "name": "stdout",
     "output_type": "stream",
     "text": [
      "b_m_sigma1\n",
      "625.85%\n",
      "\n",
      "pedigree_f_sigma1\n",
      "43.9%\n",
      "\n",
      "age_mu1\n",
      "3578.87%\n",
      "\n",
      "glu_sigma1\n",
      "3062.65%\n",
      "\n",
      "serum_mu1\n",
      "20921.13%\n",
      "\n",
      "blood_p_mu1\n",
      "7456.34%\n",
      "\n",
      "serum_sigma1\n",
      "12692.1%\n",
      "\n",
      "t_pre_mu1\n",
      "407.04%\n",
      "\n",
      "b_m_mu1\n",
      "3522.39%\n",
      "\n",
      "blood_p_sigma1\n",
      "1379.93%\n",
      "\n",
      "t_pre_sigma1\n",
      "351.86%\n",
      "\n",
      "triceps_sigma1\n",
      "976.27%\n",
      "\n",
      "triceps_mu1\n",
      "3347.89%\n",
      "\n",
      "age_sigma1\n",
      "1026.35%\n",
      "\n",
      "glu_mu1\n",
      "14414.08%\n",
      "\n",
      "pedigree_f_mu1\n",
      "63.9%\n",
      "\n"
     ]
    }
   ],
   "source": [
    "for i,j in naive_bayes_classifier.items():\n",
    "    if i != 'prior' and '1' in i:\n",
    "        print(i)\n",
    "        print(\"{}%\".format(round(j*100,2)))\n",
    "        print(\"\")"
   ]
  },
  {
   "cell_type": "markdown",
   "metadata": {},
   "source": [
    "#### d) What is the mean and variance of each input variable for patients without diabetes?"
   ]
  },
  {
   "cell_type": "code",
   "execution_count": 31,
   "metadata": {},
   "outputs": [
    {
     "name": "stdout",
     "output_type": "stream",
     "text": [
      "b_m_sigma0\n",
      "633.76%\n",
      "\n",
      "pedigree_f_sigma0\n",
      "29.18%\n",
      "\n",
      "age_mu0\n",
      "2839.39%\n",
      "\n",
      "serum_mu0\n",
      "12700.61%\n",
      "\n",
      "blood_p_mu0\n",
      "6920.61%\n",
      "\n",
      "serum_sigma0\n",
      "9148.61%\n",
      "\n",
      "t_pre_mu0\n",
      "269.09%\n",
      "\n",
      "b_m_mu0\n",
      "3170.91%\n",
      "\n",
      "blood_p_sigma0\n",
      "1171.33%\n",
      "\n",
      "t_pre_sigma0\n",
      "261.01%\n",
      "\n",
      "triceps_sigma0\n",
      "1043.69%\n",
      "\n",
      "glu_sigma0\n",
      "2469.19%\n",
      "\n",
      "triceps_mu0\n",
      "2720.0%\n",
      "\n",
      "age_sigma0\n",
      "853.74%\n",
      "\n",
      "glu_mu0\n",
      "11146.67%\n",
      "\n",
      "pedigree_f_mu0\n",
      "46.87%\n",
      "\n"
     ]
    }
   ],
   "source": [
    "# your code here\n",
    "# your code here\n",
    "for i,j in naive_bayes_classifier.items():\n",
    "    if i != 'prior' and '0' in i:\n",
    "        print(i)\n",
    "        print(\"{}%\".format(round(j*100,2)))\n",
    "        print(\"\")"
   ]
  },
  {
   "cell_type": "markdown",
   "metadata": {},
   "source": [
    "## Predict using a Naive Bayes classifier\n",
    "\n",
    "We have an artificial data set split, where the training set contains both labeled and unlabeled data. Column 'y' is the label, and columns '0','1','2' are categorical variables."
   ]
  },
  {
   "cell_type": "code",
   "execution_count": 32,
   "metadata": {},
   "outputs": [
    {
     "name": "stdout",
     "output_type": "stream",
     "text": [
      "   0  1  2\n",
      "0  4  6  6\n",
      "1  2  2  2\n",
      "2  2  6  2\n",
      "3  6  6  6\n",
      "4  1  2  2\n",
      "5  3  4  4\n",
      "6  6  1  6\n",
      "7  1  3  1\n",
      "8  5  1  6\n",
      "\n",
      "0    0\n",
      "1    1\n",
      "2    0\n",
      "3    0\n",
      "4    1\n",
      "5    0\n",
      "6    0\n",
      "7    1\n",
      "8    1\n",
      "Name: y, dtype: int64\n"
     ]
    }
   ],
   "source": [
    "data_train=pd.read_csv(\"data/predict_train.csv\")\n",
    "y_Labeled_train=data_train.iloc[:,1] \n",
    "X_Labeled_train=data_train.iloc[:,2:] \n",
    "\n",
    "data_test=pd.read_csv(\"data/predict_test.csv\")\n",
    "y_Labeled_test=data_test.iloc[:,1]\n",
    "X_Labeled_test=data_test.iloc[:,2:]\n",
    "\n",
    "data_Unlabeled=pd.read_csv(\"data/predict_unlabeled.csv\")\n",
    "X_Unlabeled_train=data_Unlabeled.iloc[:,1:]\n",
    "\n",
    "print(X_Labeled_train)\n",
    "print(\"\")\n",
    "print(y_Labeled_train)"
   ]
  },
  {
   "cell_type": "markdown",
   "metadata": {},
   "source": [
    "#### a) Learn a discrete Naive Bayes classifier from  X_Labeled_train and use it to predict the labels of X_Labeled_test."
   ]
  },
  {
   "cell_type": "code",
   "execution_count": 33,
   "metadata": {},
   "outputs": [],
   "source": [
    "def trainNaiveBayesDiscrete(X,y):\n",
    "    prior = 1.*y.sum()/y.count()\n",
    "    nbc = {'prior':prior}\n",
    "    X_1 = X[y==1]\n",
    "    X_0 = X[y==0]\n",
    "    for j in X.columns:\n",
    "        nbc[j+'_1'] = X_1[j].value_counts(normalize=True)\n",
    "        nbc[j+'_0'] = X_0[j].value_counts(normalize=True)\n",
    "    return nbc\n",
    "\n",
    "def testNaiveBayesDiscrete(X,nbc):\n",
    "    y_pred = pd.Series(index=X.index)\n",
    "    for i in X.index:\n",
    "        # compute odds of y=1\n",
    "        y_pred[i] = nbc['prior']/(1-nbc['prior']) # prior odds\n",
    "        for j in X.columns:\n",
    "            thevalue = X.loc[i,j]\n",
    "            if thevalue not in nbc[j+'_1']:\n",
    "                y_pred[i] = y_pred[i]*1E-3\n",
    "            if thevalue not in nbc[j+'_0']:\n",
    "                y_pred[i] = y_pred[i]*1E3\n",
    "            if (thevalue in nbc[j+'_1']) & (thevalue in nbc[j+'_0']):\n",
    "                y_pred[i] = y_pred[i]*(nbc[j+'_1'][thevalue]+1E-3)/(nbc[j+'_0'][thevalue]+1E-3)\n",
    "        # convert odds to probability of y=1\n",
    "        y_pred[i] = y_pred[i]/(1.0+y_pred[i])\n",
    "    return y_pred"
   ]
  },
  {
   "cell_type": "code",
   "execution_count": 34,
   "metadata": {},
   "outputs": [
    {
     "name": "stdout",
     "output_type": "stream",
     "text": [
      "('Out of sample prediction accuracy: {}', 0.6944444444444444)\n"
     ]
    }
   ],
   "source": [
    "naive_bayes_classifier = trainNaiveBayesDiscrete(X_Labeled_train,y_Labeled_train)\n",
    "\n",
    "y_pred_test = testNaiveBayesDiscrete(X_Labeled_test,naive_bayes_classifier)\n",
    "\n",
    "# measure accuracy for the binary prediction task\n",
    "print('Out of sample prediction accuracy: {}',1.0*sum((y_pred_test>0.5)==y_Labeled_test)/len(y_Labeled_test))"
   ]
  },
  {
   "cell_type": "markdown",
   "metadata": {},
   "source": [
    "#### b) Improve the classification by using the unlabeled data and the EM semi-supervised algorithm to predict the labels of X_Labeled_test."
   ]
  },
  {
   "cell_type": "code",
   "execution_count": 35,
   "metadata": {},
   "outputs": [],
   "source": [
    "def initializeNaiveBayesRandom(X_Unlabeled):\n",
    "    nbc = {'prior':0.5}\n",
    "    for j in X_Unlabeled.columns:\n",
    "        thevalues = X_Unlabeled[j].unique()\n",
    "        nbc[j+'_1'] = {}\n",
    "        nbc[j+'_0'] = {}\n",
    "        for jj in thevalues:\n",
    "            nbc[j+'_1'][jj] = np.random.rand()\n",
    "            nbc[j+'_0'][jj] = np.random.rand()\n",
    "    return nbc\n",
    "    \n",
    "def EM(X_Labeled,y_Labeled,X_Unlabeled,num_iters):\n",
    "\n",
    "    # initialize\n",
    "    \n",
    "    t = 0\n",
    "    \n",
    "    if len(y_Labeled) > 0:\n",
    "        nbc = trainNaiveBayesDiscrete(X_Labeled,y_Labeled)\n",
    "    else:\n",
    "        nbc = initializeNaiveBayesRandom(X_Unlabeled)\n",
    "    \n",
    "    while True:\n",
    "        t = t + 1\n",
    "        print('Iteration',t,'of',num_iters)\n",
    "        \n",
    "        # E step - classify with nbc for unlabeled data only\n",
    "        y_pred_Unlabeled = testNaiveBayesDiscrete(X_Unlabeled,nbc)\n",
    "        \n",
    "        # M step\n",
    "        X_for_M_step = pd.concat([X_Labeled,X_Unlabeled], ignore_index=True) \n",
    "        y_for_M_step = pd.concat([y_Labeled,y_pred_Unlabeled], ignore_index=True)\n",
    "        prior = 1.*y_for_M_step.sum()/y_for_M_step.count()\n",
    "        nbc = {'prior':prior}\n",
    "        for j in X_for_M_step.columns:\n",
    "            nbc[j+'_1'] = {}\n",
    "            nbc[j+'_0'] = {}\n",
    "            for theindex in X_for_M_step.index:\n",
    "                current_X = X_for_M_step.loc[theindex,j]\n",
    "                current_y = y_for_M_step.loc[theindex]\n",
    "                if current_X in nbc[j+'_1']:\n",
    "                    nbc[j+'_1'][current_X] += current_y\n",
    "                else:\n",
    "                    nbc[j+'_1'][current_X] = current_y\n",
    "                if current_X in nbc[j+'_0']:\n",
    "                    nbc[j+'_0'][current_X] += (1.0-current_y)\n",
    "                else:\n",
    "                    nbc[j+'_0'][current_X] = 1.0-current_y\n",
    "            # normalize probabilities\n",
    "            tempsum = 0.0\n",
    "            for k in nbc[j+'_1']:\n",
    "                tempsum += nbc[j+'_1'][k]\n",
    "            for k in nbc[j+'_1']:\n",
    "                nbc[j+'_1'][k] /= tempsum\n",
    "            tempsum = 0.0\n",
    "            for k in nbc[j+'_0']:\n",
    "                tempsum += nbc[j+'_0'][k]\n",
    "            for k in nbc[j+'_0']:\n",
    "                nbc[j+'_0'][k] /= tempsum            \n",
    "                       \n",
    "        if t==num_iters:\n",
    "            break\n",
    "            \n",
    "    return nbc"
   ]
  },
  {
   "cell_type": "code",
   "execution_count": 36,
   "metadata": {},
   "outputs": [
    {
     "name": "stdout",
     "output_type": "stream",
     "text": [
      "('Iteration', 1, 'of', 15)\n",
      "('Iteration', 2, 'of', 15)\n",
      "('Iteration', 3, 'of', 15)\n",
      "('Iteration', 4, 'of', 15)\n",
      "('Iteration', 5, 'of', 15)\n",
      "('Iteration', 6, 'of', 15)\n",
      "('Iteration', 7, 'of', 15)\n",
      "('Iteration', 8, 'of', 15)\n",
      "('Iteration', 9, 'of', 15)\n",
      "('Iteration', 10, 'of', 15)\n",
      "('Iteration', 11, 'of', 15)\n",
      "('Iteration', 12, 'of', 15)\n",
      "('Iteration', 13, 'of', 15)\n",
      "('Iteration', 14, 'of', 15)\n",
      "('Iteration', 15, 'of', 15)\n",
      "Out of sample prediction accuracy: 94.44%\n"
     ]
    }
   ],
   "source": [
    "naive_bayes_classifier=EM(X_Labeled_train,y_Labeled_train,X_Unlabeled_train,num_iters=15)\n",
    "\n",
    "y_pred_test = testNaiveBayesDiscrete(X_Labeled_test,naive_bayes_classifier)\n",
    "\n",
    "# measure accuracy for the binary prediction task\n",
    "print('Out of sample prediction accuracy: {}%'.format(round(100.0*sum((y_pred_test>0.5) == \\\n",
    "                                                             y_Labeled_test)/len(y_Labeled_test), 2)))"
   ]
  },
  {
   "cell_type": "code",
   "execution_count": null,
   "metadata": {},
   "outputs": [],
   "source": []
  }
 ],
 "metadata": {
  "kernelspec": {
   "display_name": "myEnvp3",
   "language": "python",
   "name": "myenvp3"
  },
  "language_info": {
   "codemirror_mode": {
    "name": "ipython",
    "version": 2
   },
   "file_extension": ".py",
   "mimetype": "text/x-python",
   "name": "python",
   "nbconvert_exporter": "python",
   "pygments_lexer": "ipython2",
   "version": "2.7.15"
  }
 },
 "nbformat": 4,
 "nbformat_minor": 1
}
